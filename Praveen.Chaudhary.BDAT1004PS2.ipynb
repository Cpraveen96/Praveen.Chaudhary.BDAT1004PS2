{
 "cells": [
  {
   "cell_type": "markdown",
   "metadata": {},
   "source": [
    "## **Answer 1)**\n",
    "\n",
    "## Let's break down the code execution step by step:\n",
    "\n",
    "-> **a = 0:** \n",
    "\n",
    "This statement initializes a variable a with the value 0.\n",
    "\n",
    "-> **def b(): global a , a = c(a):**\n",
    "\n",
    "This defines a function b. Inside the function, it declares that a is a global variable. Then, it calls the function c with the current value of a and assigns the result back to a.\n",
    "\n",
    "-> **def c(a): return a + 2:** \n",
    "\n",
    "This defines a function c that takes an argument a and returns a + 2.\n",
    "\n",
    "-> **First execution of b():**\n",
    "\n",
    "When b() is called for the first time, it updates the global variable a by calling c(a). Since a is initially 0, c(0) returns 0 + 2, which is 2. So, after this call, a becomes 2.\n",
    "\n",
    "-> **Second execution of b():**\n",
    "\n",
    "When b() is called again, the same process repeats. c(a) is called with the current value of a, which is now 2. So, c(2) returns 2 + 2, which is 4. After this call, a becomes 4.\n",
    "\n",
    "-> **Third execution of b():**\n",
    "\n",
    "When b() is called for the third time, the process repeats once more. c(a) is called with the current value of a, which is now 4. So, c(4) returns 4 + 2, which is 6. After this call, a becomes 6.\n",
    "\n",
    "-> **Evaluation of a:**\n",
    "\n",
    "When you evaluate a in the interpreter, it will display the current value of a, which is 6. This is because the last execution of b() updated a to 6.\n",
    "\n",
    "\\\\\n",
    "\n",
    "**So, the value displayed when the last expression (a) is evaluated is 6.**"
   ]
  },
  {
   "cell_type": "markdown",
   "metadata": {},
   "source": []
  },
  {
   "cell_type": "code",
   "execution_count": null,
   "metadata": {},
   "outputs": [],
   "source": []
  },
  {
   "cell_type": "markdown",
   "metadata": {},
   "source": [
    "## **Answer 2)**\n",
    "\n",
    "**We can modify the fileLength() function to handle the FileNotFoundError exception and print a friendly message instead. Here's how we can do it:**\n",
    "\n",
    "In this modified version of the function, we use a try-except block to catch the FileNotFoundError exception that might occur when attempting to open the file. If the exception is raised, a friendly message is printed instead of the default error message."
   ]
  },
  {
   "cell_type": "code",
   "execution_count": 18,
   "metadata": {},
   "outputs": [
    {
     "name": "stdout",
     "output_type": "stream",
     "text": [
      "File midterm.py not found.\n",
      "File idterm.py not found.\n"
     ]
    }
   ],
   "source": [
    "def fileLength(filename):\n",
    "    try:\n",
    "        infile = open(filename)\n",
    "        content = infile.read()\n",
    "        infile.close()\n",
    "        print(len(content))\n",
    "    except FileNotFoundError:\n",
    "        print(f\"File {filename} not found.\")\n",
    "\n",
    "# Test the function\n",
    "fileLength('midterm.py')\n",
    "fileLength('idterm.py')\n"
   ]
  },
  {
   "cell_type": "markdown",
   "metadata": {},
   "source": []
  },
  {
   "cell_type": "code",
   "execution_count": null,
   "metadata": {},
   "outputs": [],
   "source": []
  },
  {
   "cell_type": "markdown",
   "metadata": {},
   "source": [
    "## **Answer 3)**\n",
    "\n",
    "**Here's the implementation of the Marsupial and Kangaroo classes as described:**"
   ]
  },
  {
   "cell_type": "code",
   "execution_count": 19,
   "metadata": {},
   "outputs": [
    {
     "name": "stdout",
     "output_type": "stream",
     "text": [
      "I am a Kangaroo located at coordinates (0,0)\n",
      "['doll', 'firetruck', 'kitten']\n",
      "I am a Kangaroo located at coordinates (3,0)\n"
     ]
    }
   ],
   "source": [
    "class Marsupial:\n",
    "    def __init__(self):\n",
    "        self.pouch = []\n",
    "\n",
    "    def put_in_pouch(self, item):\n",
    "        self.pouch.append(item)\n",
    "\n",
    "    def pouch_contents(self):\n",
    "        return self.pouch\n",
    "\n",
    "\n",
    "class Kangaroo(Marsupial):\n",
    "    def __init__(self, x=0, y=0):\n",
    "        super().__init__()\n",
    "        self.x = x\n",
    "        self.y = y\n",
    "\n",
    "    def jump(self, dx, dy):\n",
    "        self.x += dx\n",
    "        self.y += dy\n",
    "\n",
    "    def __str__(self):\n",
    "        return f\"I am a Kangaroo located at coordinates ({self.x},{self.y})\"\n",
    "\n",
    "\n",
    "# Test the classes\n",
    "    \n",
    "k = Kangaroo(0, 0)\n",
    "print(k)\n",
    "\n",
    "k.put_in_pouch('doll')\n",
    "k.put_in_pouch('firetruck')\n",
    "k.put_in_pouch('kitten')\n",
    "print(k.pouch_contents())\n",
    "\n",
    "k.jump(1, 0)\n",
    "k.jump(1, 0)\n",
    "k.jump(1, 0)\n",
    "print(k)\n"
   ]
  },
  {
   "cell_type": "markdown",
   "metadata": {},
   "source": [
    "**This code defines two classes: Marsupial and Kangaroo.**\n",
    "\n",
    "-> Marsupial class has methods for putting items into the pouch and displaying the contents of the pouch.\n",
    "\n",
    "-> Kangaroo class inherits from Marsupial and adds methods to move the kangaroo's coordinates and to display its location. It also overrides the __str__ method to provide a custom string representation."
   ]
  },
  {
   "cell_type": "markdown",
   "metadata": {},
   "source": []
  },
  {
   "cell_type": "code",
   "execution_count": null,
   "metadata": {},
   "outputs": [],
   "source": []
  },
  {
   "cell_type": "markdown",
   "metadata": {},
   "source": [
    "## **Answer 4)**\n",
    "\n",
    "**Here's an implementation of the collatz() function using recursion:**"
   ]
  },
  {
   "cell_type": "code",
   "execution_count": 20,
   "metadata": {},
   "outputs": [
    {
     "name": "stdout",
     "output_type": "stream",
     "text": [
      "1\n",
      "\n",
      "10\n",
      "5\n",
      "16\n",
      "8\n",
      "4\n",
      "2\n",
      "1\n"
     ]
    }
   ],
   "source": [
    "def collatz(x):\n",
    "    print(x)\n",
    "    if x == 1:\n",
    "        return\n",
    "    elif x % 2 == 0:\n",
    "        collatz(x // 2)\n",
    "    else:\n",
    "        collatz(3 * x + 1)\n",
    "\n",
    "# Test the function\n",
    "collatz(1)\n",
    "print()\n",
    "collatz(10)\n"
   ]
  },
  {
   "cell_type": "markdown",
   "metadata": {},
   "source": [
    "**Explanation:**\n",
    "\n",
    "The function collatz(x) takes a positive integer x as input.\n",
    "\n",
    "It prints the current number x.\n",
    "\n",
    "If x is equal to 1, the function stops.\n",
    "\n",
    "If x is even (x % 2 == 0), the next number in the sequence is x // 2.\n",
    "\n",
    "If x is odd, the next number in the sequence is 3 * x + 1.\n",
    "\n",
    "The function calls itself recursively with the next number in the sequence until x becomes 1.\n"
   ]
  },
  {
   "cell_type": "markdown",
   "metadata": {},
   "source": []
  },
  {
   "cell_type": "code",
   "execution_count": null,
   "metadata": {},
   "outputs": [],
   "source": []
  },
  {
   "cell_type": "markdown",
   "metadata": {},
   "source": [
    "## **Answer 5)**\n",
    "\n",
    "**Below is an implementation of the recursive binary() method:**"
   ]
  },
  {
   "cell_type": "code",
   "execution_count": 21,
   "metadata": {},
   "outputs": [
    {
     "name": "stdout",
     "output_type": "stream",
     "text": [
      "0\n",
      "1\n",
      "11\n",
      "1001\n"
     ]
    }
   ],
   "source": [
    "def binary(n):\n",
    "    if n == 0:\n",
    "        return \"0\"\n",
    "    elif n == 1:\n",
    "        return \"1\"\n",
    "    else:\n",
    "        return binary(n // 2) + str(n % 2)\n",
    "\n",
    "# Test the function\n",
    "print(binary(0))\n",
    "print(binary(1))\n",
    "print(binary(3))\n",
    "print(binary(9))\n"
   ]
  },
  {
   "cell_type": "markdown",
   "metadata": {},
   "source": [
    "**Explanation:**\n",
    "\n",
    "The binary() function takes a non-negative integer n as input.\n",
    "\n",
    "If n is 0, it returns \"0\".\n",
    "\n",
    "If n is 1, it returns \"1\".\n",
    "\n",
    "Otherwise, it recursively calls itself with n // 2 and concatenates the result with the remainder of n divided by 2 (n % 2). This effectively converts n into binary representation.\n",
    "\n",
    "The base cases are when n is 0 or 1, as their binary representations are straightforward."
   ]
  },
  {
   "cell_type": "markdown",
   "metadata": {},
   "source": []
  },
  {
   "cell_type": "code",
   "execution_count": null,
   "metadata": {},
   "outputs": [],
   "source": []
  },
  {
   "cell_type": "markdown",
   "metadata": {},
   "source": [
    "## **Answer 6)**\n",
    "\n",
    "**Below is an implementation of the HeadingParser class that subclasses HTMLParser to parse an HTML document and print all the headings:**"
   ]
  },
  {
   "cell_type": "code",
   "execution_count": 28,
   "metadata": {},
   "outputs": [
    {
     "name": "stdout",
     "output_type": "stream",
     "text": [
      "\n",
      "\n",
      "\n",
      "\n",
      "\n",
      "Change_me\n",
      "\n",
      "\n",
      "\n",
      "\n",
      "\n",
      "\n",
      "W3C Mission\n",
      "\n",
      " Principles\n",
      " \n",
      " \n"
     ]
    }
   ],
   "source": [
    "from html.parser import HTMLParser\n",
    "\n",
    "class HeadingParser(HTMLParser):\n",
    "    def __init__(self):\n",
    "        super().__init__()\n",
    "        self.headings = []\n",
    "        self.indentation = 0\n",
    "\n",
    "    def handle_starttag(self, tag, attrs):\n",
    "        if tag.startswith('h') and tag[1:].isdigit():\n",
    "            self.indentation = int(tag[1:]) - 1\n",
    "\n",
    "    def handle_data(self, data):\n",
    "        if self.indentation >= 0:\n",
    "            self.headings.append(' ' * self.indentation + data.strip())\n",
    "\n",
    "    def print_headings(self):\n",
    "        for heading in self.headings:\n",
    "            print(heading)\n",
    "\n",
    "# Test the class\n",
    "infile = open(\"C:\\GC Drive\\Data Programming\\Downloads & Resources\\Praveen\\BDAT1004-PS2\\Praveen.Chaudhary.BDAT1004PS2\\w3c.html\")\n",
    "content = infile.read()\n",
    "infile.close()\n",
    "\n",
    "hp = HeadingParser()\n",
    "hp.feed(content)\n",
    "hp.print_headings()\n"
   ]
  },
  {
   "cell_type": "markdown",
   "metadata": {},
   "source": [
    "**Explanation:**\n",
    "\n",
    "-> We subclass HTMLParser and override its handle_starttag() and handle_data() methods to customize the parsing behavior.\n",
    "\n",
    "-> In the handle_starttag() method, we identify heading tags (h1, h2, etc.) and adjust the indentation accordingly.\n",
    "\n",
    "-> In the handle_data() method, we extract the text content of heading tags and append it to the headings list with appropriate indentation.\n",
    "\n",
    "-> We provide a print_headings() method to print all the headings with their respective indentation levels.\n",
    "\n",
    "-> We then read the HTML content from the file 'w3c.html', create an instance of HeadingParser, feed it the HTML content, and finally print the headings."
   ]
  },
  {
   "cell_type": "markdown",
   "metadata": {},
   "source": []
  },
  {
   "cell_type": "code",
   "execution_count": null,
   "metadata": {},
   "outputs": [],
   "source": []
  },
  {
   "cell_type": "markdown",
   "metadata": {},
   "source": [
    "## **Answer 7)**\n",
    "\n",
    "**To implement the webdir() function, we can use the 'requests' library to fetch the HTML content of web pages and the 'BeautifulSoup' library to parse the HTML and extract links. We'll also use recursion to navigate through the web pages up to the specified depth.**\n",
    "\n",
    "-> This implementation will print out the URLs of web pages reachable from the starting URL with a specified depth and indentation.\n",
    "\n",
    "First, we have to install the requests and beautifulsoup4 libraries if not already installed. Here's how we can do it;"
   ]
  },
  {
   "cell_type": "code",
   "execution_count": 23,
   "metadata": {},
   "outputs": [
    {
     "name": "stdout",
     "output_type": "stream",
     "text": [
      "Requirement already satisfied: requests in c:\\users\\pcpcx\\appdata\\local\\packages\\pythonsoftwarefoundation.python.3.11_qbz5n2kfra8p0\\localcache\\local-packages\\python311\\site-packages (2.31.0)\n",
      "Requirement already satisfied: charset-normalizer<4,>=2 in c:\\users\\pcpcx\\appdata\\local\\packages\\pythonsoftwarefoundation.python.3.11_qbz5n2kfra8p0\\localcache\\local-packages\\python311\\site-packages (from requests) (3.3.2)\n",
      "Requirement already satisfied: idna<4,>=2.5 in c:\\users\\pcpcx\\appdata\\local\\packages\\pythonsoftwarefoundation.python.3.11_qbz5n2kfra8p0\\localcache\\local-packages\\python311\\site-packages (from requests) (3.6)\n",
      "Requirement already satisfied: urllib3<3,>=1.21.1 in c:\\users\\pcpcx\\appdata\\local\\packages\\pythonsoftwarefoundation.python.3.11_qbz5n2kfra8p0\\localcache\\local-packages\\python311\\site-packages (from requests) (2.2.1)\n",
      "Requirement already satisfied: certifi>=2017.4.17 in c:\\users\\pcpcx\\appdata\\local\\packages\\pythonsoftwarefoundation.python.3.11_qbz5n2kfra8p0\\localcache\\local-packages\\python311\\site-packages (from requests) (2024.2.2)\n",
      "Note: you may need to restart the kernel to use updated packages.\n"
     ]
    },
    {
     "name": "stderr",
     "output_type": "stream",
     "text": [
      "\n",
      "[notice] A new release of pip is available: 23.1.1 -> 24.0\n",
      "[notice] To update, run: C:\\Users\\pcpcx\\AppData\\Local\\Microsoft\\WindowsApps\\PythonSoftwareFoundation.Python.3.11_qbz5n2kfra8p0\\python.exe -m pip install --upgrade pip\n"
     ]
    },
    {
     "name": "stdout",
     "output_type": "stream",
     "text": [
      "Requirement already satisfied: beautifulsoup4 in c:\\users\\pcpcx\\appdata\\local\\packages\\pythonsoftwarefoundation.python.3.11_qbz5n2kfra8p0\\localcache\\local-packages\\python311\\site-packages (4.12.3)\n",
      "Requirement already satisfied: soupsieve>1.2 in c:\\users\\pcpcx\\appdata\\local\\packages\\pythonsoftwarefoundation.python.3.11_qbz5n2kfra8p0\\localcache\\local-packages\\python311\\site-packages (from beautifulsoup4) (2.5)\n",
      "Note: you may need to restart the kernel to use updated packages.\n"
     ]
    },
    {
     "name": "stderr",
     "output_type": "stream",
     "text": [
      "\n",
      "[notice] A new release of pip is available: 23.1.1 -> 24.0\n",
      "[notice] To update, run: C:\\Users\\pcpcx\\AppData\\Local\\Microsoft\\WindowsApps\\PythonSoftwareFoundation.Python.3.11_qbz5n2kfra8p0\\python.exe -m pip install --upgrade pip\n"
     ]
    }
   ],
   "source": [
    "%pip install requests\n",
    "\n",
    "%pip install beautifulsoup4"
   ]
  },
  {
   "cell_type": "markdown",
   "metadata": {},
   "source": []
  },
  {
   "cell_type": "code",
   "execution_count": 24,
   "metadata": {},
   "outputs": [
    {
     "name": "stdout",
     "output_type": "stream",
     "text": [
      "http://reed.cs.depaul.edu/lperkovic/csc242/test1.html\n"
     ]
    }
   ],
   "source": [
    "import requests\n",
    "from bs4 import BeautifulSoup\n",
    "\n",
    "def webdir(url, depth, indent):\n",
    "    # Fetch the HTML content of the URL\n",
    "    response = requests.get(url)\n",
    "    soup = BeautifulSoup(response.content, 'html.parser')\n",
    "    \n",
    "    # Print the URL with appropriate indentation\n",
    "    print(' ' * indent + url)\n",
    "    \n",
    "    # Stop recursion if depth is 0\n",
    "    if depth == 0:\n",
    "        return\n",
    "    \n",
    "    # Find all <a> tags containing links\n",
    "    links = soup.find_all('a', href=True)\n",
    "    \n",
    "    # Recursively visit each link\n",
    "    for link in links:\n",
    "        href = link['href']\n",
    "        # Ensure href is an absolute URL\n",
    "        if not href.startswith('http'):\n",
    "            href = url + '/' + href\n",
    "        webdir(href, depth - 1, indent + 1)\n",
    "\n",
    "# Test the function\n",
    "webdir('http://reed.cs.depaul.edu/lperkovic/csc242/test1.html', 2, 0)\n"
   ]
  },
  {
   "cell_type": "markdown",
   "metadata": {},
   "source": []
  },
  {
   "cell_type": "code",
   "execution_count": null,
   "metadata": {},
   "outputs": [],
   "source": []
  },
  {
   "cell_type": "markdown",
   "metadata": {},
   "source": [
    "## **Answer 8)**\n",
    "<h5>\n",
    "\n",
    "**To answer these questions, we'll write SQL queries based on the provided database table. Here are the queries:**\n",
    "\n",
    "\n",
    "-> **a) All the temperature data:**\n",
    "\n",
    " SELECT Temperature FROM table_name;\n",
    "<br>\n",
    "<br>\n",
    "\n",
    "-> **b) All the cities, but without repetition:**\n",
    "\n",
    "SELECT DISTINCT City FROM table_name;\n",
    "<br>\n",
    "<br>\n",
    "\n",
    "-> **c) All the records for India:**\n",
    "\n",
    "SELECT * FROM table_name WHERE Country = 'India';\n",
    "<br>\n",
    "<br>\n",
    "\n",
    "-> **d) All the Fall records:**\n",
    "\n",
    "SELECT * FROM table_name WHERE Season = 'Fall';\n",
    "<br>\n",
    "<br>\n",
    "\n",
    "-> **e) The city, country, and season for which the average rainfall is between 200 and 400 millimeters:**\n",
    "\n",
    "SELECT City, Country, Season\n",
    "\n",
    "FROM table_name\n",
    "\n",
    "GROUP BY City, Country, Season\n",
    "\n",
    "HAVING AVG(Rainfall) BETWEEN 200 AND 400;\n",
    "<br>\n",
    "<br>\n",
    "\n",
    "\n",
    "-> **f) The city and country for which the average Fall temperature is above 20 degrees, in increasing temperature order:**\n",
    "\n",
    "SELECT City, Country\n",
    "\n",
    "FROM table_name\n",
    "\n",
    "WHERE Season = 'Fall'\n",
    "\n",
    "GROUP BY City, Country\n",
    "\n",
    "HAVING AVG(Temperature) > 20\n",
    "\n",
    "ORDER BY AVG(Temperature) ASC;\n",
    "<br>\n",
    "<br>\n",
    "\n",
    "-> **g) The total annual rainfall for Cairo:**\n",
    "\n",
    "SELECT SUM(Rainfall) AS Total_Rainfall\n",
    "\n",
    "FROM table_name\n",
    "\n",
    "WHERE City = 'Cairo';\n",
    "<br>\n",
    "<br>\n",
    "\n",
    "-> **h) The total rainfall for each season:**\n",
    "\n",
    "SELECT Season, SUM(Rainfall) AS Total_Rainfall\n",
    "\n",
    "FROM table_name\n",
    "\n",
    "GROUP BY Season;\n",
    "\n",
    "\n",
    "\n",
    "\n"
   ]
  },
  {
   "cell_type": "markdown",
   "metadata": {},
   "source": []
  },
  {
   "cell_type": "code",
   "execution_count": null,
   "metadata": {},
   "outputs": [],
   "source": []
  },
  {
   "cell_type": "markdown",
   "metadata": {},
   "source": [
    "## **Answer 9)**\n",
    "<h5>\n",
    "\n",
    "**Here are the list comprehension expressions to generate the required lists:**\n"
   ]
  },
  {
   "cell_type": "code",
   "execution_count": 25,
   "metadata": {},
   "outputs": [
    {
     "name": "stdout",
     "output_type": "stream",
     "text": [
      "a)  ['THE', 'QUICK', 'BROWN', 'FOX', 'JUMPS', 'OVER', 'THE', 'LAZY', 'DOG']\n",
      "b)  ['the', 'quick', 'brown', 'fox', 'jumps', 'over', 'the', 'lazy', 'dog']\n",
      "c)  [3, 5, 5, 3, 5, 4, 3, 4, 3]\n",
      "d)  [['THE', 'the', 3], ['QUICK', 'quick', 5], ['BROWN', 'brown', 5], ['FOX', 'fox', 3], ['JUMPS', 'jumps', 5], ['OVER', 'over', 4], ['THE', 'the', 3], ['LAZY', 'lazy', 4], ['DOG', 'dog', 3]]\n",
      "e)  ['quick', 'brown', 'jumps', 'over', 'lazy']\n"
     ]
    }
   ],
   "source": [
    "# Define the words list\n",
    "words = ['The', 'quick', 'brown', 'fox', 'jumps', 'over', 'the', 'lazy', 'dog']\n",
    "\n",
    "# a) Convert all words to uppercase\n",
    "words_upper = [word.upper() for word in words]\n",
    "print(\"a) \", words_upper)\n",
    "\n",
    "# b) Keep all words as they are (lowercase)\n",
    "words_lower = [word.lower() for word in words]\n",
    "print(\"b) \", words_lower)\n",
    "\n",
    "# c) Calculate the lengths of all words\n",
    "word_lengths = [len(word) for word in words]\n",
    "print(\"c) \", word_lengths)\n",
    "\n",
    "# d) Create lists containing the word in uppercase, lowercase, and length\n",
    "word_info = [[word.upper(), word.lower(), len(word)] for word in words]\n",
    "print(\"d) \", word_info)\n",
    "\n",
    "# e) Filter words with 4 or more characters\n",
    "words_four_or_more = [word for word in words if len(word) >= 4]\n",
    "print(\"e) \", words_four_or_more)\n",
    "\n"
   ]
  }
 ],
 "metadata": {
  "kernelspec": {
   "display_name": "Python 3",
   "language": "python",
   "name": "python3"
  },
  "language_info": {
   "codemirror_mode": {
    "name": "ipython",
    "version": 3
   },
   "file_extension": ".py",
   "mimetype": "text/x-python",
   "name": "python",
   "nbconvert_exporter": "python",
   "pygments_lexer": "ipython3",
   "version": "3.11.8"
  }
 },
 "nbformat": 4,
 "nbformat_minor": 2
}
